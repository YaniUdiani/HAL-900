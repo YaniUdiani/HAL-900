{
 "cells": [
  {
   "cell_type": "code",
   "execution_count": 1,
   "metadata": {
    "attributes": {
     "classes": [],
     "id": "",
     "n": "1"
    },
    "collapsed": true
   },
   "outputs": [],
   "source": [
    "import csv\n",
    "import numpy as np\n",
    "import matplotlib.pyplot as plt\n",
    "%matplotlib inline\n",
    "from itertools import islice\n",
    "\n",
    "# Point this towards the data. This notebook assumes the full data is present; if this is not\n",
    "# the case, modify accordingly.\n",
    "data_file = '/home/loppy/work/nscl/beta_ml/BetaScint2DEnergy.txt'"
   ]
  },
  {
   "cell_type": "code",
   "execution_count": 19,
   "metadata": {
    "attributes": {
     "classes": [],
     "id": "",
     "n": "2"
    }
   },
   "outputs": [],
   "source": [
    "# Reades data from fname into a list of 16x16-arrays.\n",
    "#   lines=None reads the entire file.\n",
    "#   lines=(start, n) reads n lines starting from start.\n",
    "#   lines=n for integer n is equivalent to lines=(0, n).\n",
    "def read_data(fname, lines=None):\n",
    "    with open(fname, newline='') as file:\n",
    "        reader = csv.reader(file, delimiter=' ')\n",
    "        data = []\n",
    "      \n",
    "        if type(lines) is tuple:\n",
    "            sl = islice(reader, lines[0], lines[0]+lines[1])\n",
    "        elif type(lines) is int:\n",
    "            sl = islice(reader, 0, lines)\n",
    "        else:\n",
    "            sl = reader\n",
    "            \n",
    "        for line in sl:                \n",
    "            grid = np.empty(len(line)-6, dtype=np.double)\n",
    "            for i in range(grid.size):\n",
    "                grid[i] = float(line[i])\n",
    "            data.append((grid.reshape((16, 16)), [float(x) for x in line[-6:-3]]))\n",
    "            \n",
    "    return data"
   ]
  },
  {
   "cell_type": "code",
   "execution_count": 20,
   "metadata": {
    "attributes": {
     "classes": [],
     "id": "",
     "n": "3"
    },
    "collapsed": true
   },
   "outputs": [],
   "source": [
    "def has_neighbor(event, x, y):\n",
    "    def test(xx, yy):\n",
    "        nx = x + xx\n",
    "        ny = y + yy\n",
    "        if nx < event.shape[0] and ny < event.shape[1]:\n",
    "            return (event[nx, ny] != 0).any()\n",
    "        else:\n",
    "            return False\n",
    "\n",
    "    return test(0, 1) or test(0, -1) or test(1, 0) or test(-1, 0) or test(1, 1) or test(1, -1) or test(-1, 1) or test(-1, -1)"
   ]
  },
  {
   "cell_type": "code",
   "execution_count": 25,
   "metadata": {},
   "outputs": [],
   "source": [
    "# This cells outputs those events for which non-zero energy readings are non-contiguous.\n",
    "\n",
    "total = 0\n",
    "\n",
    "# Read data_file in 1000 event chunks. Note that data_file has 1000000 events.\n",
    "with open('bad.txt', 'w') as f:\n",
    "    f.write(\"Index: Init, Total -- indiv\\n\")\n",
    "    for i in range(0, 1000000, 1000):\n",
    "    # Read the first 1000 events. Displays them as they're found.\n",
    "    #for i in range(0,1000):\n",
    "        data = read_data(data_file, lines=(i, 1000))\n",
    "        for event_init in data:\n",
    "            event, init = event_init\n",
    "            nz_pixels = np.where(event != 0)\n",
    "            if len(nz_pixels) != 0 \\\n",
    "               and len(nz_pixels[1]) != 1 \\\n",
    "               and not any(has_neighbor(event, x, y) for (x, y) in zip(*nz_pixels)):\n",
    "                \n",
    "                f.write(\"{}: {}, {} -- {}\\n\".format(total, init[0]*1000, event.sum(), event[event != 0][:]))\n",
    "            total += 1"
   ]
  }
 ],
 "metadata": {
  "kernelspec": {
   "display_name": "Python 3",
   "language": "python",
   "name": "python3"
  },
  "language_info": {
   "codemirror_mode": {
    "name": "ipython",
    "version": 3
   },
   "file_extension": ".py",
   "mimetype": "text/x-python",
   "name": "python",
   "nbconvert_exporter": "python",
   "pygments_lexer": "ipython3",
   "version": "3.6.3"
  }
 },
 "nbformat": 4,
 "nbformat_minor": 2
}
