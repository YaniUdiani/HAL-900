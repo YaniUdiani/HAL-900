{
 "cells": [
  {
   "cell_type": "markdown",
   "metadata": {},
   "source": [
    "## <p style=\"text-align: right;\"> &#9989; Thomas Bertus</p>"
   ]
  },
  {
   "cell_type": "markdown",
   "metadata": {},
   "source": [
    "# CMSE 202 Final (Section 002 - Spring 2018)\n",
    "\n",
    "The goal of this final is to give you the opportunity to test out some of the skills that you've developed this semester. In particular, you'll practice setting up a GitHub repository, committing and pushing repository changes, downloading data with command line tools, writing a python class, and using a new-to-you Python package. You should find that you have all of the skills necessary to complete this exam with even just a semester of CMSE 202 under your belt!\n",
    "\n",
    "You are encouraged to look through the entire exam before you get started so that you can appropriately budget your time and understand the broad goals of the exam. Once you've read through it, try doing Parts 1 and 2 first so that you have your repository set up and you download the provided data files as they will be necessary to complete the assigned tasks. Let your instructor know right away if you have problems downloading the data!\n",
    "\n",
    "The exam is set up so that even if you get stuck on one part there are opportunities to get points on the other parts, so consider jumping ahead if you feel like you aren't making progress and then come back later if you have time.\n",
    "\n",
    "**Important note about using online resources**: This exam is \"open internet\". That means that you can look up documentation, google how to accomplish certain Python tasks, etc. Being able to effectively use the internet for computational modeling and data science is a very important skill, so we want to make sure you have the opportunity to exercise that skill. **However**: The use of any person-to-person communication software is absolutely not acceptable. If you are seen accessing your email, using a chat program (e.g. Slack), or any sort of collaborative cloud storage or document software (e.g. Google Documents), you will be at risk for receiving a zero on the exam.\n",
    "\n",
    "**Keep your eye on your screen!** Unfortunately, there isn't enough space in the room for everyone to sit at their own table so please do your best to keep your eyes on your own screen. If any of the instructors observe suspicious behavior, you will, again, risk receiving a zero."
   ]
  },
  {
   "cell_type": "markdown",
   "metadata": {},
   "source": [
    "---\n",
    "## Part 1: Setting up a repository for tracking changes (15 points)\n",
    "\n",
    "Before you get too far along in the assignment, you need to set up a **private** GitHub repository that you will store this notebook in and track the changes as you make them. For this section you should:\n",
    "\n",
    "1. Set up a new **private** Git repository on GitHub.\n",
    "2. Clone the repository onto your computer.\n",
    "3. Move this notebook into that repository and then add it and commit it to the repository and push the changes to the remote repository (**Suggestion**: You may want save and close this notebook before you move to the repository and then reopen it after you move it to make sure that you're working with the right copy of the notebook.)\n",
    "4. Add your instructor as a Collaborator to your respository. As a reminder, your instructor's username is: yangy5\n",
    "\n",
    "From this point on you will occasionally be asked to save the state of your notebook, commit the changes, and push it to your new repository.\n",
    "\n",
    "**Note**: If you're struggling with getting the Git repository set up, you can always just work on the notebook as is and try to come back and figure out the repository component later. You may lose some points though since you won't have periodic commits as you make progress along the way, but it will be better than not working on the other parts of the exam!"
   ]
  },
  {
   "cell_type": "markdown",
   "metadata": {},
   "source": [
    "---\n",
    "## Part 2: Loading the data! (25 points)\n",
    "\n",
    "\n",
    "This assignment will build a simple classifier for handwritten digit recognition based on Keras, a high-level neural networks library written in Python and capable of running on top of either TensorFlow (Google), Theano (Université de Montréal) or CNTK (Microsoft). Its documentation can be found here: \n",
    "https://keras.io/\n",
    "\n",
    "We start with the installation. Keras by default uses TensorFlow as the backend, we need to install both packages. "
   ]
  },
  {
   "cell_type": "markdown",
   "metadata": {},
   "source": [
    "\n",
    "**Question 2.1 (5 points):** Use pip to install Keras and TensorFlow on your computer. If they have been installed, use pip to upgrade them to the latest version.\n"
   ]
  },
  {
   "cell_type": "code",
   "execution_count": null,
   "metadata": {
    "collapsed": true
   },
   "outputs": [],
   "source": [
    "\n"
   ]
  },
  {
   "cell_type": "markdown",
   "metadata": {},
   "source": [
    "After the installation, execute the following code to import some modules for this assignment. \n",
    "\n",
    "**Note:** these are **NOT** all! You may need to import more if necessary."
   ]
  },
  {
   "cell_type": "code",
   "execution_count": 1,
   "metadata": {},
   "outputs": [
    {
     "name": "stderr",
     "output_type": "stream",
     "text": [
      "Using TensorFlow backend.\n"
     ]
    }
   ],
   "source": [
    "import keras\n",
    "import numpy as np\n",
    "import matplotlib.pyplot as plt\n",
    "\n",
    "from __future__ import division, print_function\n",
    "from keras.callbacks import Callback\n",
    "from keras.layers import Dense, Activation, Dropout\n",
    "from keras.models import Sequential\n",
    "from keras.optimizers import SGD, RMSprop\n",
    "from keras.utils import np_utils, to_categorical\n",
    "from keras import backend as K\n",
    "\n",
    "K.set_session(K.tf.Session(config=K.tf.ConfigProto(intra_op_parallelism_threads=1, inter_op_parallelism_threads=1)))"
   ]
  },
  {
   "cell_type": "markdown",
   "metadata": {},
   "source": [
    "We will use the MNIST database of handwritten digits. Fortunately, the Keras library itself has already included 60000 images for training and another 10000 images for testing."
   ]
  },
  {
   "cell_type": "markdown",
   "metadata": {},
   "source": [
    "\n",
    "**Question 2.2 (10 points):** Import the MNIST database *from Keras* and load the training and testing sets. Name the training vectors and labels as \"x_train\" and \"y_train\", respectively. Name the testing vectors and labels as \"x_test\" and \"y_test\", respectively.\n"
   ]
  },
  {
   "cell_type": "code",
   "execution_count": 2,
   "metadata": {
    "collapsed": true
   },
   "outputs": [],
   "source": [
    "# Write and execute your code to import the MNIST database from Keras:"
   ]
  },
  {
   "cell_type": "markdown",
   "metadata": {},
   "source": [
    "**Question 2.3 (5 points):** Each image in use has $N \\times N$ pixels. Print the dimensions of \"x_train\", \"y_train\", \"x_test\", \"y_test\" and find out the value of $N$."
   ]
  },
  {
   "cell_type": "code",
   "execution_count": 3,
   "metadata": {},
   "outputs": [],
   "source": [
    "# Write and execute the code to print the dimensions:"
   ]
  },
  {
   "cell_type": "markdown",
   "metadata": {},
   "source": [
    "In order to train the network, we need to reshape the training and testing sets so that each image is represented by an $N^2$ vector rather than an $N\\times N$ matrix."
   ]
  },
  {
   "cell_type": "markdown",
   "metadata": {},
   "source": [
    "\n",
    "**Question 2.4 (5 points):** Reshape \"x_train\" and \"x_test\" so that each image is represented by a vector with $N^2$ components. Here $N$ should be replaced by the number you found in **Question 2.3**.\n"
   ]
  },
  {
   "cell_type": "code",
   "execution_count": 4,
   "metadata": {
    "collapsed": true
   },
   "outputs": [],
   "source": [
    "# Write and execute the code to reshape x_train and x_test:"
   ]
  },
  {
   "cell_type": "markdown",
   "metadata": {},
   "source": [
    "In the meanwhile, we will convert the numbers in \"y_train\" and \"y_test\" into labels using the following code:"
   ]
  },
  {
   "cell_type": "code",
   "execution_count": 5,
   "metadata": {},
   "outputs": [
    {
     "ename": "NameError",
     "evalue": "name 'y_train' is not defined",
     "output_type": "error",
     "traceback": [
      "\u001b[0;31m---------------------------------------------------------------------------\u001b[0m",
      "\u001b[0;31mNameError\u001b[0m                                 Traceback (most recent call last)",
      "\u001b[0;32m<ipython-input-5-97d5a134e970>\u001b[0m in \u001b[0;36m<module>\u001b[0;34m()\u001b[0m\n\u001b[1;32m      1\u001b[0m \u001b[0;31m# Run the following code to convert \"y_train\" and \"y_test\" into labels:\u001b[0m\u001b[0;34m\u001b[0m\u001b[0;34m\u001b[0m\u001b[0m\n\u001b[1;32m      2\u001b[0m \u001b[0;34m\u001b[0m\u001b[0m\n\u001b[0;32m----> 3\u001b[0;31m \u001b[0my_train_labels\u001b[0m \u001b[0;34m=\u001b[0m \u001b[0mto_categorical\u001b[0m\u001b[0;34m(\u001b[0m\u001b[0my_train\u001b[0m\u001b[0;34m,\u001b[0m \u001b[0mnum_classes\u001b[0m\u001b[0;34m=\u001b[0m\u001b[0;36m10\u001b[0m\u001b[0;34m)\u001b[0m\u001b[0;34m\u001b[0m\u001b[0m\n\u001b[0m\u001b[1;32m      4\u001b[0m \u001b[0;34m\u001b[0m\u001b[0m\n\u001b[1;32m      5\u001b[0m \u001b[0my_test_labels\u001b[0m \u001b[0;34m=\u001b[0m \u001b[0mto_categorical\u001b[0m\u001b[0;34m(\u001b[0m\u001b[0my_test\u001b[0m\u001b[0;34m,\u001b[0m \u001b[0mnum_classes\u001b[0m\u001b[0;34m=\u001b[0m\u001b[0;36m10\u001b[0m\u001b[0;34m)\u001b[0m\u001b[0;34m\u001b[0m\u001b[0m\n",
      "\u001b[0;31mNameError\u001b[0m: name 'y_train' is not defined"
     ]
    }
   ],
   "source": [
    "# Run the following code to convert \"y_train\" and \"y_test\" into labels:\n",
    "\n",
    "y_train_labels = to_categorical(y_train, num_classes=10)\n",
    "\n",
    "y_test_labels = to_categorical(y_test, num_classes=10)"
   ]
  },
  {
   "cell_type": "markdown",
   "metadata": {},
   "source": [
    "---\n",
    "### STOP: Save the current state of your notebook, commit the changes to your local repository and push those changes to the remote repository. Use the commit message \"Committing Part 2\".\n",
    "---"
   ]
  },
  {
   "cell_type": "markdown",
   "metadata": {},
   "source": [
    "## Part 3: Using a new package (25 points)\n",
    "\n",
    "\n",
    "In this part we build a feed-forward fully connected network (FCN). Feed-forward FCN is a network where information only flows in the forward direction. We will use the Sequential class\n",
    "in Keras. You may refer to the documentation here: \n",
    "\n",
    "https://keras.io/getting-started/sequential-model-guide/\n",
    "\n",
    "and some of the methods here:\n",
    "\n",
    "https://keras.io/getting-started/sequential-model-guide/\n"
   ]
  },
  {
   "cell_type": "markdown",
   "metadata": {},
   "source": [
    "Initial an empty feed-forward FCN model as follows:"
   ]
  },
  {
   "cell_type": "code",
   "execution_count": null,
   "metadata": {
    "collapsed": true
   },
   "outputs": [],
   "source": [
    "# Run the following code to initiate an empty feed-forward FCN:\n",
    "\n",
    "model = Sequential()"
   ]
  },
  {
   "cell_type": "markdown",
   "metadata": {},
   "source": [
    "Next, we proceed to add some layers. Firstly an input layer.\n",
    "\n",
    "**Question 3.1 (5 points):** Find a method in the Sequential class to add an input layer of \"Dense\" type. Specify the layer parameters as follows:\n",
    "\n",
    "output dimension = 20,\n",
    "\n",
    "input_dim = $N^2$ (you should have found the value of $N$ in **Question 2.3**),\n",
    "\n",
    "activation function = 'sigmoid'\n",
    "\n",
    "Leave all the other parameters as default."
   ]
  },
  {
   "cell_type": "code",
   "execution_count": null,
   "metadata": {
    "collapsed": true
   },
   "outputs": [],
   "source": [
    "# Write and execute the code to add an input layer of \"Dense\" type:\n"
   ]
  },
  {
   "cell_type": "markdown",
   "metadata": {},
   "source": [
    "\n",
    "**Question 3.2 (5 points):** Use the same method to add an output layer of \"Dense\" type. Specify the layer parameters as follows:\n",
    "\n",
    "output dimension = 10,\n",
    "\n",
    "activation function = 'sigmoid'\n",
    "\n",
    "Leave all the other parameters as default."
   ]
  },
  {
   "cell_type": "code",
   "execution_count": null,
   "metadata": {
    "collapsed": true
   },
   "outputs": [],
   "source": [
    "# Write and execute the code to add an output layer of \"Dense\" type:\n"
   ]
  },
  {
   "cell_type": "markdown",
   "metadata": {},
   "source": [
    "Next, we need to choose an optimizer for the training.\n",
    "\n",
    "**Question 3.3 (10 points):** Specify the optimizer to be stochastic gradient descent with learning rate lr=0.1. Leave all the other parameters as default."
   ]
  },
  {
   "cell_type": "code",
   "execution_count": null,
   "metadata": {
    "collapsed": true
   },
   "outputs": [],
   "source": [
    "# Write and execute the code to specify the optimizer:\n"
   ]
  },
  {
   "cell_type": "markdown",
   "metadata": {},
   "source": [
    "Finally, we compile the model to integrate the layers.\n",
    "\n",
    "**Question 3.4 (5 points):** Find a method in the Sequential class to compile the model. Specify the layer parameters as follows:\n",
    "\n",
    "loss function = 'mean_squared_error'\n",
    "\n",
    "optimizer = sgd\n",
    "\n",
    "metrics = 'accuracy'"
   ]
  },
  {
   "cell_type": "code",
   "execution_count": null,
   "metadata": {
    "collapsed": true
   },
   "outputs": [],
   "source": [
    "# Write and execute the code to compile the FCN:\n"
   ]
  },
  {
   "cell_type": "markdown",
   "metadata": {},
   "source": [
    "You can take a look at the summary of this network by the \"summary\" method in the Sequential class. \n",
    "\n",
    "**Caution:** Your network is expected to have only 2 layers. More layers can appear if you accidentally run some pieces of the above code more than once (which adds a layer every time it runs). In this case, restart the kernel and re-execute all the previous code until you see exactly 2 layers."
   ]
  },
  {
   "cell_type": "code",
   "execution_count": null,
   "metadata": {},
   "outputs": [],
   "source": [
    "# Run the code to display summary of the network.\n"
   ]
  },
  {
   "cell_type": "markdown",
   "metadata": {},
   "source": [
    "---\n",
    "### STOP: Save the current state of your notebook, commit the changes to your local repository and push those changes to the remote repository. Use the commit message \"Committing Part 3\".\n",
    "---"
   ]
  },
  {
   "cell_type": "markdown",
   "metadata": {},
   "source": [
    "## Part 4: Training and Visualization (15 points)\n",
    "\n",
    "\n",
    "In this part we train the feed forward FCN and visualize 10 images in the testing set."
   ]
  },
  {
   "cell_type": "markdown",
   "metadata": {},
   "source": [
    "**Question 4.1 (5 points):**  Find a method in the Sequential class to train the FCN network. Specify the layer parameters as follows:\n",
    "\n",
    "batch_size = 100\n",
    "\n",
    "epochs = 10.\n",
    "\n",
    "Leave all the other parameters as default.\n"
   ]
  },
  {
   "cell_type": "code",
   "execution_count": null,
   "metadata": {},
   "outputs": [],
   "source": [
    "# Write and execute the code to train the FCN:\n"
   ]
  },
  {
   "cell_type": "markdown",
   "metadata": {},
   "source": [
    "**Question 4.2 (10 points):**  Find a method in the Sequential class to predict the labels of the testing images using the trained CFN network. The method should return a matrix, name it \"y_predict\", that makes the code below executable. Then run the code to display the first 10 images in the testing set as well as the corresponding predictions. "
   ]
  },
  {
   "cell_type": "code",
   "execution_count": null,
   "metadata": {
    "collapsed": true
   },
   "outputs": [],
   "source": [
    "# Write and execute the code to predict the labels of the testing images:\n"
   ]
  },
  {
   "cell_type": "code",
   "execution_count": null,
   "metadata": {},
   "outputs": [],
   "source": [
    "# Run the code to display the first 10 images in the testing set:\n",
    "\n",
    "fig = plt.figure(2,figsize=(20, 5))\n",
    "\n",
    "for i in range(10):\n",
    "    img = x_test[i].reshape((28, 28))\n",
    "    a=fig.add_subplot(1,10,i+1)\n",
    "    \n",
    "    g = np.argmax(y_predict[i,:])\n",
    "    \n",
    "    a.set_title('Predicted: '+str(g), size=15)\n",
    "    plt.tick_params(labelbottom='off', labelleft='off')\n",
    "    plt.imshow(img,cmap=plt.cm.gray_r)\n",
    "    \n",
    "plt.show()"
   ]
  },
  {
   "cell_type": "markdown",
   "metadata": {},
   "source": [
    "---\n",
    "### STOP: Save the current state of your notebook, commit the changes to your local repository and push those changes to the remote repository. Use the commit message \"Committing Part 4\".\n",
    "---"
   ]
  }
 ],
 "metadata": {
  "kernelspec": {
   "display_name": "Python 3",
   "language": "python",
   "name": "python3"
  },
  "language_info": {
   "codemirror_mode": {
    "name": "ipython",
    "version": 3
   },
   "file_extension": ".py",
   "mimetype": "text/x-python",
   "name": "python",
   "nbconvert_exporter": "python",
   "pygments_lexer": "ipython3",
   "version": "3.6.1"
  }
 },
 "nbformat": 4,
 "nbformat_minor": 2
}
