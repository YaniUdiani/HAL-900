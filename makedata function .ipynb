{
 "cells": [
  {
   "cell_type": "code",
   "execution_count": null,
   "metadata": {},
   "outputs": [],
   "source": [
    "import csv\n",
    "import numpy as np\n",
    "import matplotlib.pyplot as plt\n",
    "\n",
    "def makedata(filename):\n",
    "    file = open(filename)\n",
    "    events = csv.reader(file)\n",
    "    data = []\n",
    "    for event in events:\n",
    "        data.append(event)\n",
    "    data = np.asarray(data)\n",
    "    N, M = data.shape\n",
    "    val = np.zeros((N,M))\n",
    "    for i in range(N):\n",
    "        for j in range(M):\n",
    "            val[i][j] = float(data[i][j])\n",
    "    grid = val[:,0:256]\n",
    "    \n",
    "#    outs = val[:,256:]\n",
    "    events = []\n",
    "    for i in range(len(grid)):\n",
    "        events.append(grid[i,:].reshape((16,16)))\n",
    "    return events\n",
    "\n",
    "grid = makedata(\"BetaScintData.csv\")\n",
    "for event in grid:\n",
    "    plt.spy(event)\n",
    "    plt.show()"
   ]
  }
 ],
 "metadata": {
  "kernelspec": {
   "display_name": "Python 3",
   "language": "python",
   "name": "python3"
  },
  "language_info": {
   "codemirror_mode": {
    "name": "ipython",
    "version": 3
   },
   "file_extension": ".py",
   "mimetype": "text/x-python",
   "name": "python",
   "nbconvert_exporter": "python",
   "pygments_lexer": "ipython3",
   "version": "3.6.4"
  }
 },
 "nbformat": 4,
 "nbformat_minor": 2
}
